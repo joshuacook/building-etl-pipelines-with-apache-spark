{
 "cells": [
  {
   "cell_type": "code",
   "execution_count": 1,
   "metadata": {},
   "outputs": [
    {
     "name": "stdout",
     "output_type": "stream",
     "text": [
      "--2020-04-07 21:23:15--  https://hadoop-and-big-data.s3-us-west-2.amazonaws.com/nasa/nasa_19950731.22-19950831.22.tsv\n",
      "Resolving hadoop-and-big-data.s3-us-west-2.amazonaws.com (hadoop-and-big-data.s3-us-west-2.amazonaws.com)... 52.218.218.169\n",
      "Connecting to hadoop-and-big-data.s3-us-west-2.amazonaws.com (hadoop-and-big-data.s3-us-west-2.amazonaws.com)|52.218.218.169|:443... connected.\n",
      "HTTP request sent, awaiting response... 200 OK\n",
      "Length: 120704766 (115M) [application/x-www-form-urlencoded]\n",
      "Saving to: ‘nasa_19950731.22-19950831.22.tsv’\n",
      "\n",
      "nasa_19950731.22-19 100%[===================>] 115.11M  5.60MB/s    in 16s     \n",
      "\n",
      "2020-04-07 21:23:31 (7.31 MB/s) - ‘nasa_19950731.22-19950831.22.tsv’ saved [120704766/120704766]\n",
      "\n"
     ]
    }
   ],
   "source": [
    "!wget https://hadoop-and-big-data.s3-us-west-2.amazonaws.com/nasa/nasa_19950731.22-19950831.22.tsv"
   ]
  },
  {
   "cell_type": "code",
   "execution_count": 2,
   "metadata": {},
   "outputs": [
    {
     "name": "stdout",
     "output_type": "stream",
     "text": [
      "--2020-04-07 21:23:32--  https://hadoop-and-big-data.s3-us-west-2.amazonaws.com/nasa/nasa_19950630.22-19950728.12.tsv\n",
      "Resolving hadoop-and-big-data.s3-us-west-2.amazonaws.com (hadoop-and-big-data.s3-us-west-2.amazonaws.com)... 52.218.193.105\n",
      "Connecting to hadoop-and-big-data.s3-us-west-2.amazonaws.com (hadoop-and-big-data.s3-us-west-2.amazonaws.com)|52.218.193.105|:443... connected.\n",
      "HTTP request sent, awaiting response... 200 OK\n",
      "Length: 148483808 (142M) [application/x-www-form-urlencoded]\n",
      "Saving to: ‘nasa_19950630.22-19950728.12.tsv’\n",
      "\n",
      "nasa_19950630.22-19 100%[===================>] 141.60M  7.52MB/s    in 49s     \n",
      "\n",
      "2020-04-07 21:24:21 (2.89 MB/s) - ‘nasa_19950630.22-19950728.12.tsv’ saved [148483808/148483808]\n",
      "\n"
     ]
    }
   ],
   "source": [
    "!wget https://hadoop-and-big-data.s3-us-west-2.amazonaws.com/nasa/nasa_19950630.22-19950728.12.tsv"
   ]
  },
  {
   "cell_type": "code",
   "execution_count": 3,
   "metadata": {},
   "outputs": [],
   "source": [
    "!mv nasa_* ../data/"
   ]
  },
  {
   "cell_type": "code",
   "execution_count": 4,
   "metadata": {},
   "outputs": [],
   "source": [
    "!rm -rf ../data/NASA"
   ]
  },
  {
   "cell_type": "code",
   "execution_count": 5,
   "metadata": {},
   "outputs": [
    {
     "name": "stdout",
     "output_type": "stream",
     "text": [
      "nasa_19950630.22-19950728.12.tsv  nasa_19950731.22-19950831.22.tsv\n"
     ]
    }
   ],
   "source": [
    "!ls ../data"
   ]
  },
  {
   "cell_type": "code",
   "execution_count": 6,
   "metadata": {},
   "outputs": [],
   "source": [
    "from pyspark import sql\n",
    "\n",
    "spark = sql.SparkSession.builder \\\n",
    "        .master(\"local[8]\") \\\n",
    "        .getOrCreate()\n"
   ]
  },
  {
   "cell_type": "code",
   "execution_count": 7,
   "metadata": {},
   "outputs": [
    {
     "name": "stdout",
     "output_type": "stream",
     "text": [
      "+--------------------+\n",
      "|                 _c0|\n",
      "+--------------------+\n",
      "|host\tlogname\ttime...|\n",
      "|199.72.81.55\t-\t80...|\n",
      "|unicomp6.unicomp....|\n",
      "|199.120.110.21\t-\t...|\n",
      "|burger.letters.co...|\n",
      "|199.120.110.21\t-\t...|\n",
      "|burger.letters.co...|\n",
      "|burger.letters.co...|\n",
      "|205.212.115.106\t-...|\n",
      "|d104.aa.net\t-\t804...|\n",
      "|129.94.144.152\t-\t...|\n",
      "|unicomp6.unicomp....|\n",
      "|unicomp6.unicomp....|\n",
      "|unicomp6.unicomp....|\n",
      "|d104.aa.net\t-\t804...|\n",
      "|d104.aa.net\t-\t804...|\n",
      "|d104.aa.net\t-\t804...|\n",
      "|129.94.144.152\t-\t...|\n",
      "|199.120.110.21\t-\t...|\n",
      "|ppptky391.asahi-n...|\n",
      "+--------------------+\n",
      "only showing top 20 rows\n",
      "\n"
     ]
    }
   ],
   "source": [
    "log_1_path = \"../data/nasa_19950630.22-19950728.12.tsv\"\n",
    "nasa_log_1_df = spark.read.csv(log_1_path)\n",
    "nasa_log_1_df.show()\n"
   ]
  },
  {
   "cell_type": "code",
   "execution_count": 8,
   "metadata": {},
   "outputs": [],
   "source": [
    "nasa_log_1_df = (spark.read\n",
    "                 .option(\"header\", True)\n",
    "                 .csv(log_1_path))"
   ]
  },
  {
   "cell_type": "code",
   "execution_count": 9,
   "metadata": {},
   "outputs": [
    {
     "name": "stdout",
     "output_type": "stream",
     "text": [
      "+--------------------+-------+---------+------+--------------------+--------+-----+-------+---------+\n",
      "|                host|logname|     time|method|                 url|response|bytes|referer|useragent|\n",
      "+--------------------+-------+---------+------+--------------------+--------+-----+-------+---------+\n",
      "|        199.72.81.55|      -|804571201|   GET|    /history/apollo/|     200| 6245|   null|     null|\n",
      "|unicomp6.unicomp.net|      -|804571206|   GET| /shuttle/countdown/|     200| 3985|   null|     null|\n",
      "|      199.120.110.21|      -|804571209|   GET|/shuttle/missions...|     200| 4085|   null|     null|\n",
      "|  burger.letters.com|      -|804571211|   GET|/shuttle/countdow...|     304|    0|   null|     null|\n",
      "|      199.120.110.21|      -|804571211|   GET|/shuttle/missions...|     200| 4179|   null|     null|\n",
      "|  burger.letters.com|      -|804571212|   GET|/images/NASA-logo...|     304|    0|   null|     null|\n",
      "|  burger.letters.com|      -|804571212|   GET|/shuttle/countdow...|     200|    0|   null|     null|\n",
      "|     205.212.115.106|      -|804571212|   GET|/shuttle/countdow...|     200| 3985|   null|     null|\n",
      "|         d104.aa.net|      -|804571213|   GET| /shuttle/countdown/|     200| 3985|   null|     null|\n",
      "|      129.94.144.152|      -|804571213|   GET|                   /|     200| 7074|   null|     null|\n",
      "|unicomp6.unicomp.net|      -|804571214|   GET|/shuttle/countdow...|     200|40310|   null|     null|\n",
      "|unicomp6.unicomp.net|      -|804571214|   GET|/images/NASA-logo...|     200|  786|   null|     null|\n",
      "|unicomp6.unicomp.net|      -|804571214|   GET|/images/KSC-logos...|     200| 1204|   null|     null|\n",
      "|         d104.aa.net|      -|804571215|   GET|/shuttle/countdow...|     200|40310|   null|     null|\n",
      "|         d104.aa.net|      -|804571215|   GET|/images/NASA-logo...|     200|  786|   null|     null|\n",
      "|         d104.aa.net|      -|804571215|   GET|/images/KSC-logos...|     200| 1204|   null|     null|\n",
      "|      129.94.144.152|      -|804571217|   GET|/images/ksclogo-m...|     304|    0|   null|     null|\n",
      "|      199.120.110.21|      -|804571217|   GET|/images/launch-lo...|     200| 1713|   null|     null|\n",
      "|ppptky391.asahi-n...|      -|804571218|   GET|/facts/about_ksc....|     200| 3977|   null|     null|\n",
      "|  net-1-141.eden.com|      -|804571219|   GET|/shuttle/missions...|     200|34029|   null|     null|\n",
      "+--------------------+-------+---------+------+--------------------+--------+-----+-------+---------+\n",
      "only showing top 20 rows\n",
      "\n"
     ]
    }
   ],
   "source": [
    "nasa_log_1_df = (spark.read\n",
    "                 .option(\"header\", True)\n",
    "                 .option(\"sep\", \"\\t\")\n",
    "                 .csv(log_1_path))\n",
    "nasa_log_1_df.show()\n"
   ]
  },
  {
   "cell_type": "code",
   "execution_count": 10,
   "metadata": {},
   "outputs": [
    {
     "data": {
      "text/plain": [
       "1891709"
      ]
     },
     "execution_count": 10,
     "metadata": {},
     "output_type": "execute_result"
    }
   ],
   "source": [
    "nasa_log_1_df.count()"
   ]
  },
  {
   "cell_type": "code",
   "execution_count": 11,
   "metadata": {},
   "outputs": [
    {
     "data": {
      "text/plain": [
       "(259024, 64)"
      ]
     },
     "execution_count": 11,
     "metadata": {},
     "output_type": "execute_result"
    }
   ],
   "source": [
    "import sys\n",
    "\n",
    "nasa_sample_df = nasa_log_1_df.limit(500).toPandas()\n",
    "sys.getsizeof(nasa_sample_df), sys.getsizeof(nasa_log_1_df)\n"
   ]
  },
  {
   "cell_type": "code",
   "execution_count": 12,
   "metadata": {},
   "outputs": [
    {
     "name": "stdout",
     "output_type": "stream",
     "text": [
      "+--------------------+-------+---------+------+--------------------+--------+-----+-------+---------+-------------------+-------------------+\n",
      "|                host|logname|     time|method|                 url|response|bytes|referer|useragent|           unixtime|          timestamp|\n",
      "+--------------------+-------+---------+------+--------------------+--------+-----+-------+---------+-------------------+-------------------+\n",
      "|        199.72.81.55|      -|804571201|   GET|    /history/apollo/|     200| 6245|   null|     null|1995-07-01 04:00:01|1995-07-01 04:00:01|\n",
      "|unicomp6.unicomp.net|      -|804571206|   GET| /shuttle/countdown/|     200| 3985|   null|     null|1995-07-01 04:00:06|1995-07-01 04:00:06|\n",
      "|      199.120.110.21|      -|804571209|   GET|/shuttle/missions...|     200| 4085|   null|     null|1995-07-01 04:00:09|1995-07-01 04:00:09|\n",
      "|  burger.letters.com|      -|804571211|   GET|/shuttle/countdow...|     304|    0|   null|     null|1995-07-01 04:00:11|1995-07-01 04:00:11|\n",
      "|      199.120.110.21|      -|804571211|   GET|/shuttle/missions...|     200| 4179|   null|     null|1995-07-01 04:00:11|1995-07-01 04:00:11|\n",
      "|  burger.letters.com|      -|804571212|   GET|/images/NASA-logo...|     304|    0|   null|     null|1995-07-01 04:00:12|1995-07-01 04:00:12|\n",
      "|  burger.letters.com|      -|804571212|   GET|/shuttle/countdow...|     200|    0|   null|     null|1995-07-01 04:00:12|1995-07-01 04:00:12|\n",
      "|     205.212.115.106|      -|804571212|   GET|/shuttle/countdow...|     200| 3985|   null|     null|1995-07-01 04:00:12|1995-07-01 04:00:12|\n",
      "|         d104.aa.net|      -|804571213|   GET| /shuttle/countdown/|     200| 3985|   null|     null|1995-07-01 04:00:13|1995-07-01 04:00:13|\n",
      "|      129.94.144.152|      -|804571213|   GET|                   /|     200| 7074|   null|     null|1995-07-01 04:00:13|1995-07-01 04:00:13|\n",
      "|unicomp6.unicomp.net|      -|804571214|   GET|/shuttle/countdow...|     200|40310|   null|     null|1995-07-01 04:00:14|1995-07-01 04:00:14|\n",
      "|unicomp6.unicomp.net|      -|804571214|   GET|/images/NASA-logo...|     200|  786|   null|     null|1995-07-01 04:00:14|1995-07-01 04:00:14|\n",
      "|unicomp6.unicomp.net|      -|804571214|   GET|/images/KSC-logos...|     200| 1204|   null|     null|1995-07-01 04:00:14|1995-07-01 04:00:14|\n",
      "|         d104.aa.net|      -|804571215|   GET|/shuttle/countdow...|     200|40310|   null|     null|1995-07-01 04:00:15|1995-07-01 04:00:15|\n",
      "|         d104.aa.net|      -|804571215|   GET|/images/NASA-logo...|     200|  786|   null|     null|1995-07-01 04:00:15|1995-07-01 04:00:15|\n",
      "|         d104.aa.net|      -|804571215|   GET|/images/KSC-logos...|     200| 1204|   null|     null|1995-07-01 04:00:15|1995-07-01 04:00:15|\n",
      "|      129.94.144.152|      -|804571217|   GET|/images/ksclogo-m...|     304|    0|   null|     null|1995-07-01 04:00:17|1995-07-01 04:00:17|\n",
      "|      199.120.110.21|      -|804571217|   GET|/images/launch-lo...|     200| 1713|   null|     null|1995-07-01 04:00:17|1995-07-01 04:00:17|\n",
      "|ppptky391.asahi-n...|      -|804571218|   GET|/facts/about_ksc....|     200| 3977|   null|     null|1995-07-01 04:00:18|1995-07-01 04:00:18|\n",
      "|  net-1-141.eden.com|      -|804571219|   GET|/shuttle/missions...|     200|34029|   null|     null|1995-07-01 04:00:19|1995-07-01 04:00:19|\n",
      "+--------------------+-------+---------+------+--------------------+--------+-----+-------+---------+-------------------+-------------------+\n",
      "only showing top 20 rows\n",
      "\n"
     ]
    }
   ],
   "source": [
    "from pyspark.sql.functions import col, from_unixtime, unix_timestamp\n",
    "\n",
    "nasa_log_1_parse_time_df = (nasa_log_1_df\n",
    "    .withColumn(\"unixtime\", from_unixtime(col(\"time\")))\n",
    "    .withColumn(\"timestamp\", unix_timestamp(col(\"unixtime\")).cast(\"timestamp\"))\n",
    "    .withColumn(\"bytes\", col(\"bytes\").cast(\"integer\"))\n",
    "    .withColumn(\"response\", col(\"response\").cast(\"integer\")))\n",
    "\n",
    "nasa_log_1_parse_time_df.show()\n"
   ]
  },
  {
   "cell_type": "code",
   "execution_count": 13,
   "metadata": {},
   "outputs": [
    {
     "name": "stdout",
     "output_type": "stream",
     "text": [
      "+------+--------------------+-------------------+----+\n",
      "|method|                 url|          timestamp|hour|\n",
      "+------+--------------------+-------------------+----+\n",
      "|   GET|    /history/apollo/|1995-07-01 04:00:01|   4|\n",
      "|   GET| /shuttle/countdown/|1995-07-01 04:00:06|   4|\n",
      "|   GET|/shuttle/missions...|1995-07-01 04:00:09|   4|\n",
      "|   GET|/shuttle/missions...|1995-07-01 04:00:11|   4|\n",
      "|   GET|/shuttle/countdow...|1995-07-01 04:00:12|   4|\n",
      "|   GET|/shuttle/countdow...|1995-07-01 04:00:12|   4|\n",
      "|   GET| /shuttle/countdown/|1995-07-01 04:00:13|   4|\n",
      "|   GET|                   /|1995-07-01 04:00:13|   4|\n",
      "|   GET|/shuttle/countdow...|1995-07-01 04:00:14|   4|\n",
      "|   GET|/images/NASA-logo...|1995-07-01 04:00:14|   4|\n",
      "|   GET|/images/KSC-logos...|1995-07-01 04:00:14|   4|\n",
      "|   GET|/shuttle/countdow...|1995-07-01 04:00:15|   4|\n",
      "|   GET|/images/NASA-logo...|1995-07-01 04:00:15|   4|\n",
      "|   GET|/images/KSC-logos...|1995-07-01 04:00:15|   4|\n",
      "|   GET|/images/launch-lo...|1995-07-01 04:00:17|   4|\n",
      "|   GET|/facts/about_ksc....|1995-07-01 04:00:18|   4|\n",
      "|   GET|/shuttle/missions...|1995-07-01 04:00:19|   4|\n",
      "|   GET|/images/launchpal...|1995-07-01 04:00:19|   4|\n",
      "|   GET| /shuttle/countdown/|1995-07-01 04:00:24|   4|\n",
      "|   GET|/shuttle/missions...|1995-07-01 04:00:25|   4|\n",
      "+------+--------------------+-------------------+----+\n",
      "only showing top 20 rows\n",
      "\n"
     ]
    }
   ],
   "source": [
    "from pyspark.sql.functions import col, hour, from_utc_timestamp\n",
    "\n",
    "getRequestsDF = (nasa_log_1_parse_time_df\n",
    "  .filter((col(\"response\") >= 200) & (col(\"response\") < 300))\n",
    "  .select(\"method\", \"url\", \"timestamp\", hour(\"timestamp\").alias(\"hour\"))\n",
    ")\n",
    "getRequestsDF.show()"
   ]
  },
  {
   "cell_type": "code",
   "execution_count": 14,
   "metadata": {},
   "outputs": [
    {
     "name": "stdout",
     "output_type": "stream",
     "text": [
      "+----+------+\n",
      "|hour| count|\n",
      "+----+------+\n",
      "|  12| 74063|\n",
      "|  22| 71734|\n",
      "|   1| 65401|\n",
      "|  13| 88009|\n",
      "|   6| 40737|\n",
      "|  16|109035|\n",
      "|   3| 63327|\n",
      "|  20|106904|\n",
      "|   5| 48181|\n",
      "|  19|109957|\n",
      "|  15|103238|\n",
      "|   9| 28538|\n",
      "|  17|108794|\n",
      "|   4| 56587|\n",
      "|   8| 28910|\n",
      "|  23| 65103|\n",
      "|   7| 33817|\n",
      "|  10| 31497|\n",
      "|  21| 88520|\n",
      "|  11| 48064|\n",
      "+----+------+\n",
      "only showing top 20 rows\n",
      "\n"
     ]
    }
   ],
   "source": [
    "getRequestsDF.groupby(\"hour\").count().show()"
   ]
  },
  {
   "cell_type": "code",
   "execution_count": 15,
   "metadata": {},
   "outputs": [
    {
     "name": "stdout",
     "output_type": "stream",
     "text": [
      "+--------------------+-----+\n",
      "|                 url|count|\n",
      "+--------------------+-----+\n",
      "|/images/NASA-logo...|90378|\n",
      "|/images/KSC-logos...|77204|\n",
      "|/images/MOSAIC-lo...|53840|\n",
      "|/images/USA-logos...|53437|\n",
      "|/images/WORLD-log...|53076|\n",
      "|/images/ksclogo-m...|52965|\n",
      "|           /ksc.html|38606|\n",
      "| /shuttle/countdown/|36934|\n",
      "|/images/launch-lo...|36243|\n",
      "|/images/ksclogosm...|30494|\n",
      "|                   /|30218|\n",
      "|/history/apollo/i...|27938|\n",
      "|/shuttle/missions...|23257|\n",
      "|  /htbin/cdt_main.pl|22626|\n",
      "|/shuttle/countdow...|20643|\n",
      "|/images/launchmed...|19385|\n",
      "|/shuttle/countdow...|19352|\n",
      "|/shuttle/countdow...|18491|\n",
      "|/shuttle/missions...|18197|\n",
      "|/shuttle/missions...|16675|\n",
      "+--------------------+-----+\n",
      "only showing top 20 rows\n",
      "\n"
     ]
    }
   ],
   "source": [
    "(getRequestsDF\n",
    "        .groupby(\"url\")\n",
    "        .count()\n",
    "        .orderBy(col(\"count\").desc())\n",
    "        .show())"
   ]
  },
  {
   "cell_type": "code",
   "execution_count": 16,
   "metadata": {},
   "outputs": [],
   "source": [
    "nasa_log_1_df.write.mode(\"overwrite\").parquet(\"../data/NASA\")"
   ]
  },
  {
   "cell_type": "code",
   "execution_count": 17,
   "metadata": {},
   "outputs": [
    {
     "name": "stdout",
     "output_type": "stream",
     "text": [
      "part-00000-b907fc9c-aa40-46e4-ab46-bf23af6d5427-c000.snappy.parquet\n",
      "part-00001-b907fc9c-aa40-46e4-ab46-bf23af6d5427-c000.snappy.parquet\n",
      "part-00002-b907fc9c-aa40-46e4-ab46-bf23af6d5427-c000.snappy.parquet\n",
      "part-00003-b907fc9c-aa40-46e4-ab46-bf23af6d5427-c000.snappy.parquet\n",
      "part-00004-b907fc9c-aa40-46e4-ab46-bf23af6d5427-c000.snappy.parquet\n",
      "part-00005-b907fc9c-aa40-46e4-ab46-bf23af6d5427-c000.snappy.parquet\n",
      "part-00006-b907fc9c-aa40-46e4-ab46-bf23af6d5427-c000.snappy.parquet\n",
      "part-00007-b907fc9c-aa40-46e4-ab46-bf23af6d5427-c000.snappy.parquet\n",
      "_SUCCESS\n"
     ]
    }
   ],
   "source": [
    "!ls ../data/NASA"
   ]
  },
  {
   "cell_type": "code",
   "execution_count": 18,
   "metadata": {},
   "outputs": [
    {
     "data": {
      "text/plain": [
       "DataFrame[host: string, logname: string, time: string, method: string, url: string, response: string, bytes: string, referer: string, useragent: string]"
      ]
     },
     "execution_count": 18,
     "metadata": {},
     "output_type": "execute_result"
    }
   ],
   "source": [
    "spark.read.parquet(\"../data/NASA\")"
   ]
  },
  {
   "cell_type": "code",
   "execution_count": 19,
   "metadata": {},
   "outputs": [
    {
     "data": {
      "text/plain": [
       "1891709"
      ]
     },
     "execution_count": 19,
     "metadata": {},
     "output_type": "execute_result"
    }
   ],
   "source": [
    "spark.read.parquet(\"../data/NASA\").count()"
   ]
  },
  {
   "cell_type": "markdown",
   "metadata": {},
   "source": [
    "# Exercises"
   ]
  },
  {
   "cell_type": "markdown",
   "metadata": {},
   "source": [
    "### 1"
   ]
  },
  {
   "cell_type": "code",
   "execution_count": 20,
   "metadata": {},
   "outputs": [
    {
     "name": "stdout",
     "output_type": "stream",
     "text": [
      "+--------------------+-----+\n",
      "|                 url|count|\n",
      "+--------------------+-----+\n",
      "|/images/NASA-logo...|90378|\n",
      "|/images/KSC-logos...|77204|\n",
      "|/images/MOSAIC-lo...|53840|\n",
      "|/images/USA-logos...|53437|\n",
      "|/images/WORLD-log...|53076|\n",
      "|/images/ksclogo-m...|52965|\n",
      "|           /ksc.html|38606|\n",
      "| /shuttle/countdown/|36934|\n",
      "|/images/launch-lo...|36243|\n",
      "|/images/ksclogosm...|30494|\n",
      "+--------------------+-----+\n",
      "\n"
     ]
    }
   ],
   "source": [
    "(getRequestsDF\n",
    "        .groupby(\"url\")\n",
    "        .count()\n",
    "        .orderBy(col(\"count\").desc())\n",
    "        .limit(10)\n",
    "        .show())"
   ]
  },
  {
   "cell_type": "markdown",
   "metadata": {},
   "source": [
    "### 2"
   ]
  },
  {
   "cell_type": "code",
   "execution_count": 21,
   "metadata": {},
   "outputs": [],
   "source": [
    "(getRequestsDF\n",
    "        .groupby(\"url\")\n",
    "        .count()\n",
    "        .orderBy(col(\"count\").desc())\n",
    "        .limit(10)\n",
    "        .write.mode(\"overwrite\").parquet(\"../data/NASA-top-10\"))"
   ]
  },
  {
   "cell_type": "markdown",
   "metadata": {},
   "source": [
    "### 3"
   ]
  },
  {
   "cell_type": "code",
   "execution_count": 22,
   "metadata": {},
   "outputs": [
    {
     "data": {
      "text/plain": [
       "3461595"
      ]
     },
     "execution_count": 22,
     "metadata": {},
     "output_type": "execute_result"
    }
   ],
   "source": [
    "log_2_path = \"../data/nasa_19950731.22-19950831.22.tsv\"\n",
    "nasa_log_2_df = (spark.read\n",
    "                 .option(\"header\", True)\n",
    "                 .option(\"sep\", \"\\t\").csv(log_2_path))\n",
    "\n",
    "nasa_log_2_parse_time_df = (nasa_log_2_df\n",
    "    .withColumn(\"unixtime\", from_unixtime(col(\"time\")))\n",
    "    .withColumn(\"timestamp\", unix_timestamp(col(\"unixtime\")).cast(\"timestamp\"))\n",
    "    .withColumn(\"bytes\", col(\"bytes\").cast(\"integer\"))\n",
    "    .withColumn(\"response\", col(\"response\").cast(\"integer\")))\n",
    "\n",
    "nasa_log_2_df.write.mode(\"append\").parquet(\"../data/NASA\")\n",
    "\n",
    "spark.read.parquet(\"../data/NASA\").count()"
   ]
  }
 ],
 "metadata": {
  "kernelspec": {
   "display_name": "Python 3",
   "language": "python",
   "name": "python3"
  },
  "language_info": {
   "codemirror_mode": {
    "name": "ipython",
    "version": 3
   },
   "file_extension": ".py",
   "mimetype": "text/x-python",
   "name": "python",
   "nbconvert_exporter": "python",
   "pygments_lexer": "ipython3",
   "version": "3.7.4"
  }
 },
 "nbformat": 4,
 "nbformat_minor": 4
}
