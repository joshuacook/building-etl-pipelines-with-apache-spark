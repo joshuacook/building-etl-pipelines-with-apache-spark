{
 "cells": [
  {
   "cell_type": "code",
   "execution_count": 1,
   "metadata": {},
   "outputs": [
    {
     "name": "stdout",
     "output_type": "stream",
     "text": [
      "--2020-04-08 01:42:15--  https://hadoop-and-big-data.s3-us-west-2.amazonaws.com/fitness-tracker/health_tracker_data_2020_1.json\n",
      "Resolving hadoop-and-big-data.s3-us-west-2.amazonaws.com (hadoop-and-big-data.s3-us-west-2.amazonaws.com)... 52.218.193.233\n",
      "Connecting to hadoop-and-big-data.s3-us-west-2.amazonaws.com (hadoop-and-big-data.s3-us-west-2.amazonaws.com)|52.218.193.233|:443... connected.\n",
      "HTTP request sent, awaiting response... 200 OK\n",
      "Length: 310630 (303K) [application/json]\n",
      "Saving to: ‘health_tracker_data_2020_1.json’\n",
      "\n",
      "health_tracker_data 100%[===================>] 303.35K  1.45MB/s    in 0.2s    \n",
      "\n",
      "2020-04-08 01:42:16 (1.45 MB/s) - ‘health_tracker_data_2020_1.json’ saved [310630/310630]\n",
      "\n"
     ]
    }
   ],
   "source": [
    "!wget https://hadoop-and-big-data.s3-us-west-2.amazonaws.com/fitness-tracker/health_tracker_data_2020_1.json"
   ]
  },
  {
   "cell_type": "code",
   "execution_count": 2,
   "metadata": {},
   "outputs": [
    {
     "name": "stdout",
     "output_type": "stream",
     "text": [
      "--2020-04-08 01:42:17--  https://hadoop-and-big-data.s3-us-west-2.amazonaws.com/fitness-tracker/health_tracker_data_2020_2.json\n",
      "Resolving hadoop-and-big-data.s3-us-west-2.amazonaws.com (hadoop-and-big-data.s3-us-west-2.amazonaws.com)... 52.218.193.233\n",
      "Connecting to hadoop-and-big-data.s3-us-west-2.amazonaws.com (hadoop-and-big-data.s3-us-west-2.amazonaws.com)|52.218.193.233|:443... connected.\n",
      "HTTP request sent, awaiting response... 200 OK\n",
      "Length: 284671 (278K) [application/json]\n",
      "Saving to: ‘health_tracker_data_2020_2.json’\n",
      "\n",
      "health_tracker_data 100%[===================>] 278.00K  1.33MB/s    in 0.2s    \n",
      "\n",
      "2020-04-08 01:42:17 (1.33 MB/s) - ‘health_tracker_data_2020_2.json’ saved [284671/284671]\n",
      "\n"
     ]
    }
   ],
   "source": [
    "!wget https://hadoop-and-big-data.s3-us-west-2.amazonaws.com/fitness-tracker/health_tracker_data_2020_2.json"
   ]
  },
  {
   "cell_type": "code",
   "execution_count": 3,
   "metadata": {},
   "outputs": [
    {
     "name": "stdout",
     "output_type": "stream",
     "text": [
      "--2020-04-08 01:42:18--  https://hadoop-and-big-data.s3-us-west-2.amazonaws.com/fitness-tracker/health_tracker_data_2020_2_late.json\n",
      "Resolving hadoop-and-big-data.s3-us-west-2.amazonaws.com (hadoop-and-big-data.s3-us-west-2.amazonaws.com)... 52.218.193.233\n",
      "Connecting to hadoop-and-big-data.s3-us-west-2.amazonaws.com (hadoop-and-big-data.s3-us-west-2.amazonaws.com)|52.218.193.233|:443... connected.\n",
      "HTTP request sent, awaiting response... 200 OK\n",
      "Length: 5828 (5.7K) [application/json]\n",
      "Saving to: ‘health_tracker_data_2020_2_late.json’\n",
      "\n",
      "health_tracker_data 100%[===================>]   5.69K  --.-KB/s    in 0.006s  \n",
      "\n",
      "2020-04-08 01:42:18 (947 KB/s) - ‘health_tracker_data_2020_2_late.json’ saved [5828/5828]\n",
      "\n"
     ]
    }
   ],
   "source": [
    "!wget https://hadoop-and-big-data.s3-us-west-2.amazonaws.com/fitness-tracker/health_tracker_data_2020_2_late.json"
   ]
  },
  {
   "cell_type": "code",
   "execution_count": 4,
   "metadata": {},
   "outputs": [],
   "source": [
    "!rm -rf ../data/health_tracker"
   ]
  },
  {
   "cell_type": "code",
   "execution_count": 5,
   "metadata": {},
   "outputs": [],
   "source": [
    "!mv health_tracker* ../data/"
   ]
  },
  {
   "cell_type": "code",
   "execution_count": 6,
   "metadata": {},
   "outputs": [
    {
     "name": "stdout",
     "output_type": "stream",
     "text": [
      "health_tracker_data_2020_1.json       nasa_19950630.22-19950728.12.tsv\n",
      "health_tracker_data_2020_2.json       nasa_19950731.22-19950831.22.tsv\n",
      "health_tracker_data_2020_2_late.json  NASA-top-10\n",
      "NASA\n"
     ]
    }
   ],
   "source": [
    "!ls ../data"
   ]
  },
  {
   "cell_type": "code",
   "execution_count": 7,
   "metadata": {},
   "outputs": [],
   "source": [
    "from os import environ\n",
    "environ['PYSPARK_SUBMIT_ARGS'] = '--packages \"io.delta:delta-core_2.11:0.5.0\" pyspark-shell'\n",
    "\n",
    "from pyspark import sql\n",
    "\n",
    "spark = sql.SparkSession.builder \\\n",
    "        .master(\"local[8]\") \\\n",
    "        .getOrCreate()\n"
   ]
  },
  {
   "cell_type": "code",
   "execution_count": 8,
   "metadata": {},
   "outputs": [
    {
     "name": "stdout",
     "output_type": "stream",
     "text": [
      "root\n",
      " |-- device_id: long (nullable = true)\n",
      " |-- heartrate: double (nullable = true)\n",
      " |-- name: string (nullable = true)\n",
      " |-- time: double (nullable = true)\n",
      "\n"
     ]
    }
   ],
   "source": [
    "spark.read.json(\"../data/health_tracker_data_2020_1.json\").printSchema()"
   ]
  },
  {
   "cell_type": "code",
   "execution_count": 9,
   "metadata": {},
   "outputs": [],
   "source": [
    "january_data = \"../data/health_tracker_data_2020_1.json\"\n",
    "health_tracker_data_2020_1_spark_df = spark.read.json(january_data)"
   ]
  },
  {
   "cell_type": "code",
   "execution_count": 10,
   "metadata": {},
   "outputs": [
    {
     "name": "stdout",
     "output_type": "stream",
     "text": [
      "+-------+------------------+-----------------+--------------+-----------------+\n",
      "|summary|         device_id|        heartrate|          name|             time|\n",
      "+-------+------------------+-----------------+--------------+-----------------+\n",
      "|  count|              3720|             3720|          3720|             3720|\n",
      "|   mean|               2.0|81.06307641375903|          null|      1.5791742E9|\n",
      "| stddev|1.4144036831728202|32.02158427493751|          null|773290.7260012928|\n",
      "|    min|                 0|  -214.0260997522|Deborah Powell|      1.5778368E9|\n",
      "|    max|                 4|   186.4790827731|     Sam Knopp|      1.5805116E9|\n",
      "+-------+------------------+-----------------+--------------+-----------------+\n",
      "\n"
     ]
    }
   ],
   "source": [
    "health_tracker_data_2020_1_spark_df.describe().show()"
   ]
  },
  {
   "cell_type": "code",
   "execution_count": 11,
   "metadata": {},
   "outputs": [
    {
     "data": {
      "text/html": [
       "<div>\n",
       "<style scoped>\n",
       "    .dataframe tbody tr th:only-of-type {\n",
       "        vertical-align: middle;\n",
       "    }\n",
       "\n",
       "    .dataframe tbody tr th {\n",
       "        vertical-align: top;\n",
       "    }\n",
       "\n",
       "    .dataframe thead th {\n",
       "        text-align: right;\n",
       "    }\n",
       "</style>\n",
       "<table border=\"1\" class=\"dataframe\">\n",
       "  <thead>\n",
       "    <tr style=\"text-align: right;\">\n",
       "      <th></th>\n",
       "      <th>device_id</th>\n",
       "      <th>heartrate</th>\n",
       "      <th>time</th>\n",
       "    </tr>\n",
       "  </thead>\n",
       "  <tbody>\n",
       "    <tr>\n",
       "      <th>count</th>\n",
       "      <td>3720.000000</td>\n",
       "      <td>3720.000000</td>\n",
       "      <td>3.720000e+03</td>\n",
       "    </tr>\n",
       "    <tr>\n",
       "      <th>mean</th>\n",
       "      <td>2.000000</td>\n",
       "      <td>81.063076</td>\n",
       "      <td>1.579174e+09</td>\n",
       "    </tr>\n",
       "    <tr>\n",
       "      <th>std</th>\n",
       "      <td>1.414404</td>\n",
       "      <td>32.021584</td>\n",
       "      <td>7.732907e+05</td>\n",
       "    </tr>\n",
       "    <tr>\n",
       "      <th>min</th>\n",
       "      <td>0.000000</td>\n",
       "      <td>-214.026100</td>\n",
       "      <td>1.577837e+09</td>\n",
       "    </tr>\n",
       "    <tr>\n",
       "      <th>25%</th>\n",
       "      <td>1.000000</td>\n",
       "      <td>58.693890</td>\n",
       "      <td>1.578506e+09</td>\n",
       "    </tr>\n",
       "    <tr>\n",
       "      <th>50%</th>\n",
       "      <td>2.000000</td>\n",
       "      <td>86.543347</td>\n",
       "      <td>1.579174e+09</td>\n",
       "    </tr>\n",
       "    <tr>\n",
       "      <th>75%</th>\n",
       "      <td>3.000000</td>\n",
       "      <td>97.725701</td>\n",
       "      <td>1.579843e+09</td>\n",
       "    </tr>\n",
       "    <tr>\n",
       "      <th>max</th>\n",
       "      <td>4.000000</td>\n",
       "      <td>186.479083</td>\n",
       "      <td>1.580512e+09</td>\n",
       "    </tr>\n",
       "  </tbody>\n",
       "</table>\n",
       "</div>"
      ],
      "text/plain": [
       "         device_id    heartrate          time\n",
       "count  3720.000000  3720.000000  3.720000e+03\n",
       "mean      2.000000    81.063076  1.579174e+09\n",
       "std       1.414404    32.021584  7.732907e+05\n",
       "min       0.000000  -214.026100  1.577837e+09\n",
       "25%       1.000000    58.693890  1.578506e+09\n",
       "50%       2.000000    86.543347  1.579174e+09\n",
       "75%       3.000000    97.725701  1.579843e+09\n",
       "max       4.000000   186.479083  1.580512e+09"
      ]
     },
     "execution_count": 11,
     "metadata": {},
     "output_type": "execute_result"
    }
   ],
   "source": [
    "health_tracker_data_2020_1_pd_df = health_tracker_data_2020_1_spark_df.toPandas()\n",
    "health_tracker_data_2020_1_pd_df.describe()"
   ]
  },
  {
   "cell_type": "code",
   "execution_count": 12,
   "metadata": {},
   "outputs": [
    {
     "data": {
      "text/plain": [
       "<matplotlib.lines.Line2D at 0x7fe1e3dce890>"
      ]
     },
     "execution_count": 12,
     "metadata": {},
     "output_type": "execute_result"
    },
    {
     "data": {
      "image/png": "[encoded data removed]",
      "text/plain": [
       "<Figure size 1440x432 with 1 Axes>"
      ]
     },
     "metadata": {
      "needs_background": "light"
     },
     "output_type": "display_data"
    }
   ],
   "source": [
    "import matplotlib.pyplot as plt\n",
    "\n",
    "fig, ax = plt.subplots(figsize=(20,6))\n",
    "colors = (\"red\", \"orange\", \"blue\", \"green\", \"purple\")\n",
    "\n",
    "for _id in health_tracker_data_2020_1_pd_df.device_id.unique():\n",
    "    mask = ((health_tracker_data_2020_1_pd_df.device_id == _id) &\n",
    "            (health_tracker_data_2020_1_pd_df.time < 1.578337e+09))\n",
    "    (health_tracker_data_2020_1_pd_df[mask]\n",
    "     .plot(kind=\"scatter\", x=\"time\", y=\"heartrate\",\n",
    "           color=colors[_id], label=f\"device {_id}\", ax=ax))\n",
    "ax.axhline(0)"
   ]
  },
  {
   "cell_type": "code",
   "execution_count": 13,
   "metadata": {},
   "outputs": [
    {
     "name": "stdout",
     "output_type": "stream",
     "text": [
      "+---------+-------------+--------------+-------------------+----------+\n",
      "|device_id|    heartrate|          name|               time|       dte|\n",
      "+---------+-------------+--------------+-------------------+----------+\n",
      "|        0|52.8139067501|Deborah Powell|2020-01-01 00:00:00|2020-01-01|\n",
      "|        0|53.9078900098|Deborah Powell|2020-01-01 01:00:00|2020-01-01|\n",
      "|        0|52.7129593616|Deborah Powell|2020-01-01 02:00:00|2020-01-01|\n",
      "|        0|52.2880422685|Deborah Powell|2020-01-01 03:00:00|2020-01-01|\n",
      "|        0|52.5156095386|Deborah Powell|2020-01-01 04:00:00|2020-01-01|\n",
      "|        0|53.6280743846|Deborah Powell|2020-01-01 05:00:00|2020-01-01|\n",
      "|        0|52.1760037066|Deborah Powell|2020-01-01 06:00:00|2020-01-01|\n",
      "|        0|90.0456721836|Deborah Powell|2020-01-01 07:00:00|2020-01-01|\n",
      "|        0|89.4695644522|Deborah Powell|2020-01-01 08:00:00|2020-01-01|\n",
      "|        0|88.1490304138|Deborah Powell|2020-01-01 09:00:00|2020-01-01|\n",
      "|        0|86.3092976213|Deborah Powell|2020-01-01 10:00:00|2020-01-01|\n",
      "|        0|86.6672980008|Deborah Powell|2020-01-01 11:00:00|2020-01-01|\n",
      "|        0|89.2044154758|Deborah Powell|2020-01-01 12:00:00|2020-01-01|\n",
      "|        0|88.8691678316|Deborah Powell|2020-01-01 13:00:00|2020-01-01|\n",
      "|        0|87.7252170634|Deborah Powell|2020-01-01 14:00:00|2020-01-01|\n",
      "|        0|87.8357187561|Deborah Powell|2020-01-01 15:00:00|2020-01-01|\n",
      "|        0|87.1769562648|Deborah Powell|2020-01-01 16:00:00|2020-01-01|\n",
      "|        0|88.3403107931|Deborah Powell|2020-01-01 17:00:00|2020-01-01|\n",
      "|        0|88.9083484735|Deborah Powell|2020-01-01 18:00:00|2020-01-01|\n",
      "|        0| 87.921434203|Deborah Powell|2020-01-01 19:00:00|2020-01-01|\n",
      "+---------+-------------+--------------+-------------------+----------+\n",
      "only showing top 20 rows\n",
      "\n"
     ]
    }
   ],
   "source": [
    "from pyspark.sql.functions import col, from_unixtime\n",
    "\n",
    "silverDF = health_tracker_data_2020_1_spark_df.withColumn(\"time\", from_unixtime(\"time\"))\n",
    "silverDF = silverDF.withColumn(\"time\", col(\"time\").cast(\"timestamp\"))\n",
    "silverDF = silverDF.withColumn(\"dte\", col(\"time\").cast(\"date\"))\n",
    "\n",
    "silverDF.show()"
   ]
  },
  {
   "cell_type": "code",
   "execution_count": 14,
   "metadata": {},
   "outputs": [],
   "source": [
    "silverDF.write \\\n",
    " .mode(\"overwrite\") \\\n",
    " .format(\"parquet\") \\\n",
    " .partitionBy(\"device_id\") \\\n",
    " .save(\"../data/health_tracker/silver\") "
   ]
  },
  {
   "cell_type": "code",
   "execution_count": 15,
   "metadata": {},
   "outputs": [
    {
     "name": "stdout",
     "output_type": "stream",
     "text": [
      "'device_id=0'  'device_id=2'  'device_id=4'\n",
      "'device_id=1'  'device_id=3'   _SUCCESS\n"
     ]
    }
   ],
   "source": [
    "!ls ../data/health_tracker/silver"
   ]
  },
  {
   "cell_type": "code",
   "execution_count": 16,
   "metadata": {},
   "outputs": [
    {
     "name": "stdout",
     "output_type": "stream",
     "text": [
      "+-------------+--------------+-------------------+----------+---------+\n",
      "|    heartrate|          name|               time|       dte|device_id|\n",
      "+-------------+--------------+-------------------+----------+---------+\n",
      "|47.5378557652|Kristin Vasser|2020-01-01 00:00:00|2020-01-01|        1|\n",
      "|48.3496970512|Kristin Vasser|2020-01-01 01:00:00|2020-01-01|        1|\n",
      "|49.1212033115|Kristin Vasser|2020-01-01 02:00:00|2020-01-01|        1|\n",
      "|47.9982802854|Kristin Vasser|2020-01-01 03:00:00|2020-01-01|        1|\n",
      "| 47.841083408|Kristin Vasser|2020-01-01 04:00:00|2020-01-01|        1|\n",
      "|47.7225468025|Kristin Vasser|2020-01-01 05:00:00|2020-01-01|        1|\n",
      "|47.3041211781|Kristin Vasser|2020-01-01 06:00:00|2020-01-01|        1|\n",
      "|49.1694935562|Kristin Vasser|2020-01-01 07:00:00|2020-01-01|        1|\n",
      "|80.1944436044|Kristin Vasser|2020-01-01 08:00:00|2020-01-01|        1|\n",
      "|80.0663193135|Kristin Vasser|2020-01-01 09:00:00|2020-01-01|        1|\n",
      "|80.4780281723|Kristin Vasser|2020-01-01 10:00:00|2020-01-01|        1|\n",
      "|80.1692553854|Kristin Vasser|2020-01-01 11:00:00|2020-01-01|        1|\n",
      "|80.2008095649|Kristin Vasser|2020-01-01 12:00:00|2020-01-01|        1|\n",
      "|77.9520274534|Kristin Vasser|2020-01-01 13:00:00|2020-01-01|        1|\n",
      "|79.6522283544|Kristin Vasser|2020-01-01 14:00:00|2020-01-01|        1|\n",
      "|78.9239411441|Kristin Vasser|2020-01-01 15:00:00|2020-01-01|        1|\n",
      "| 79.223388494|Kristin Vasser|2020-01-01 16:00:00|2020-01-01|        1|\n",
      "|79.3956852183|Kristin Vasser|2020-01-01 17:00:00|2020-01-01|        1|\n",
      "|80.9319580003|Kristin Vasser|2020-01-01 18:00:00|2020-01-01|        1|\n",
      "|80.2328308016|Kristin Vasser|2020-01-01 19:00:00|2020-01-01|        1|\n",
      "+-------------+--------------+-------------------+----------+---------+\n",
      "only showing top 20 rows\n",
      "\n"
     ]
    }
   ],
   "source": [
    "spark.read \\\n",
    "    .format(\"parquet\") \\\n",
    "    .load(\"../data/health_tracker/silver\").show()"
   ]
  },
  {
   "cell_type": "code",
   "execution_count": 17,
   "metadata": {},
   "outputs": [
    {
     "data": {
      "text/plain": [
       "3720"
      ]
     },
     "execution_count": 17,
     "metadata": {},
     "output_type": "execute_result"
    }
   ],
   "source": [
    "spark.read \\\n",
    "    .format(\"parquet\") \\\n",
    "    .load(\"../data/health_tracker/silver\").count()"
   ]
  },
  {
   "cell_type": "code",
   "execution_count": 18,
   "metadata": {},
   "outputs": [],
   "source": [
    "from delta.tables import DeltaTable\n",
    "health_tracker_parquet_table = \"parquet.`../data/health_tracker/silver`\"\n",
    "partition = \"device_id int\"\n",
    "\n",
    "delta_table = DeltaTable.convertToDelta(spark, \n",
    "                                        health_tracker_parquet_table, \n",
    "                                        partition)"
   ]
  },
  {
   "cell_type": "code",
   "execution_count": 19,
   "metadata": {},
   "outputs": [
    {
     "data": {
      "text/plain": [
       "3720"
      ]
     },
     "execution_count": 19,
     "metadata": {},
     "output_type": "execute_result"
    }
   ],
   "source": [
    "spark.read \\\n",
    "    .format(\"delta\") \\\n",
    "    .load(\"../data/health_tracker/silver\").count()"
   ]
  }
 ],
 "metadata": {
  "kernelspec": {
   "display_name": "Python 3",
   "language": "python",
   "name": "python3"
  },
  "language_info": {
   "codemirror_mode": {
    "name": "ipython",
    "version": 3
   },
   "file_extension": ".py",
   "mimetype": "text/x-python",
   "name": "python",
   "nbconvert_exporter": "python",
   "pygments_lexer": "ipython3",
   "version": "3.7.4"
  }
 },
 "nbformat": 4,
 "nbformat_minor": 4
}
